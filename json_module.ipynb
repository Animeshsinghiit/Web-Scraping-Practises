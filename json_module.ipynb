{
  "nbformat": 4,
  "nbformat_minor": 0,
  "metadata": {
    "colab": {
      "provenance": [],
      "authorship_tag": "ABX9TyMXsdfGU2eI9UeXft1seGRN",
      "include_colab_link": true
    },
    "kernelspec": {
      "name": "python3",
      "display_name": "Python 3"
    },
    "language_info": {
      "name": "python"
    }
  },
  "cells": [
    {
      "cell_type": "markdown",
      "metadata": {
        "id": "view-in-github",
        "colab_type": "text"
      },
      "source": [
        "<a href=\"https://colab.research.google.com/github/Animeshsinghiit/Web-Scraping-Practises/blob/main/json_module.ipynb\" target=\"_parent\"><img src=\"https://colab.research.google.com/assets/colab-badge.svg\" alt=\"Open In Colab\"/></a>"
      ]
    },
    {
      "cell_type": "code",
      "execution_count": 1,
      "metadata": {
        "id": "PetEED27Ay_M"
      },
      "outputs": [],
      "source": [
        "import json"
      ]
    },
    {
      "cell_type": "code",
      "source": [
        "data='{\"color\": \"red\",\"value\": \"#f00\"}'"
      ],
      "metadata": {
        "id": "FXP0TjQvCUt6"
      },
      "execution_count": 6,
      "outputs": []
    },
    {
      "cell_type": "code",
      "source": [
        "parsed=json.loads(data)"
      ],
      "metadata": {
        "id": "nz4h4ENzCyGx"
      },
      "execution_count": 7,
      "outputs": []
    },
    {
      "cell_type": "code",
      "source": [
        "parsed"
      ],
      "metadata": {
        "colab": {
          "base_uri": "https://localhost:8080/"
        },
        "id": "BDChKIogDuIh",
        "outputId": "756fab49-dbe3-4fdc-8f30-437cdf540652"
      },
      "execution_count": 8,
      "outputs": [
        {
          "output_type": "execute_result",
          "data": {
            "text/plain": [
              "{'color': 'red', 'value': '#f00'}"
            ]
          },
          "metadata": {},
          "execution_count": 8
        }
      ]
    },
    {
      "cell_type": "code",
      "source": [
        "# json.dumps convert the javascript incompatible object to compatible object\n",
        "data2='{\"name\":\"animesh\",\"sirname\":\"singh\",\"genious\":True}'\n",
        "#able code is not compatible as True is true in javascript, so in order to make it javascript compatible we use .dumps() method\n",
        "jscomp=json.dumps(data2)"
      ],
      "metadata": {
        "id": "QIDKHx4aEVYu"
      },
      "execution_count": 10,
      "outputs": []
    }
  ]
}