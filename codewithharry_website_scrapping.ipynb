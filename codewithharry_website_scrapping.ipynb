{
  "nbformat": 4,
  "nbformat_minor": 0,
  "metadata": {
    "colab": {
      "provenance": [],
      "collapsed_sections": [],
      "authorship_tag": "ABX9TyOK/22f3V0wt57fbPRqtZfY",
      "include_colab_link": true
    },
    "kernelspec": {
      "name": "python3",
      "display_name": "Python 3"
    },
    "language_info": {
      "name": "python"
    }
  },
  "cells": [
    {
      "cell_type": "markdown",
      "metadata": {
        "id": "view-in-github",
        "colab_type": "text"
      },
      "source": [
        "<a href=\"https://colab.research.google.com/github/Animeshsinghiit/Web-Scraping-Practises/blob/main/codewithharry_website_scrapping.ipynb\" target=\"_parent\"><img src=\"https://colab.research.google.com/assets/colab-badge.svg\" alt=\"Open In Colab\"/></a>"
      ]
    },
    {
      "cell_type": "code",
      "execution_count": null,
      "metadata": {
        "id": "dFSJ1kzDyYWS"
      },
      "outputs": [],
      "source": [
        "import requests\n",
        "from bs4 import BeautifulSoup\n",
        "url=\"https://www.codewithharry.com\""
      ]
    },
    {
      "cell_type": "code",
      "source": [
        "response=requests.get(url)"
      ],
      "metadata": {
        "id": "UGYrG_857X-M"
      },
      "execution_count": null,
      "outputs": []
    },
    {
      "cell_type": "code",
      "source": [
        "htmlcontent=response.content"
      ],
      "metadata": {
        "id": "-EBnmRyn7pRm"
      },
      "execution_count": null,
      "outputs": []
    },
    {
      "cell_type": "code",
      "source": [
        "htmlcontent"
      ],
      "metadata": {
        "id": "3PejHUcq7weu"
      },
      "execution_count": null,
      "outputs": []
    },
    {
      "cell_type": "code",
      "source": [
        "soup=BeautifulSoup(htmlcontent,'html.parser')"
      ],
      "metadata": {
        "id": "HlfWZaoZ70y8"
      },
      "execution_count": null,
      "outputs": []
    },
    {
      "cell_type": "code",
      "source": [
        "soup"
      ],
      "metadata": {
        "id": "OhwjMEok8kTn"
      },
      "execution_count": null,
      "outputs": []
    },
    {
      "cell_type": "code",
      "source": [
        "soup.prettify"
      ],
      "metadata": {
        "id": "33ZG6f3W8ur8"
      },
      "execution_count": null,
      "outputs": []
    },
    {
      "cell_type": "code",
      "source": [
        "title=soup.title"
      ],
      "metadata": {
        "id": "EFXUi2Bt86zG"
      },
      "execution_count": null,
      "outputs": []
    },
    {
      "cell_type": "code",
      "source": [
        "title"
      ],
      "metadata": {
        "colab": {
          "base_uri": "https://localhost:8080/"
        },
        "id": "lG5-xzWA9dQ2",
        "outputId": "11f2211e-3619-4e6d-f587-bdb994599af6"
      },
      "execution_count": null,
      "outputs": [
        {
          "output_type": "execute_result",
          "data": {
            "text/plain": [
              "<title>Learn to code online - CodeWithHarry</title>"
            ]
          },
          "metadata": {},
          "execution_count": 15
        }
      ]
    },
    {
      "cell_type": "code",
      "source": [
        "paras=soup.find_all('p')"
      ],
      "metadata": {
        "id": "lu-6-x_B9iAi"
      },
      "execution_count": null,
      "outputs": []
    },
    {
      "cell_type": "code",
      "source": [
        "paras"
      ],
      "metadata": {
        "colab": {
          "base_uri": "https://localhost:8080/"
        },
        "id": "bAN3TvHw-UiN",
        "outputId": "49533ed6-e314-4b95-8fac-ffc502cf528e"
      },
      "execution_count": null,
      "outputs": [
        {
          "output_type": "execute_result",
          "data": {
            "text/plain": [
              "[<p class=\"mt-2 text-sm text-gray-500 md:text-base\">Confused on which course to take? I have got you covered. Browse courses and find out the best course for you. Its free! Code With Harry is my attempt to teach basics and those coding techniques to people in short time which took me ages to learn.</p>,\n",
              " <p class=\"text-gray-700 text-base\">Complete Tailwind CSS Course by CodeWithHarry in Hindi - Learn Tailwind CSS from scratch for free! </p>,\n",
              " <p class=\"text-gray-700 text-base\">Complete Next.js Course by CodeWithHarry in Hindi - Learn Next.js from Scratch.</p>,\n",
              " <p class=\"text-gray-700 text-base\">React is a free and open-source front-end JavaScript library. This series will cover React from starting to the end. We will learn react from the ground up!</p>,\n",
              " <p class=\"leading-relaxed mb-6\">I don't have words to thank this man, I'm really grateful to have this channel and website in my daily routine. If you're a mere beginner, then you can trust this guy and can put your time into his content. I can assure you that it'll be worth it.</p>,\n",
              " <p class=\"leading-relaxed mb-6\">For everyone who wants to level up their #Coding and #Dev skills - seriously, this channel is for you! Both basic and advanced stacks are covered on this channel, and one can learn according to his skill levels. And the icing on the cake is, everything is available for free.</p>,\n",
              " <p class=\"text-sm text-gray-500 sm:ml-4 sm:pl-4 sm:border-l-2 sm:border-gray-200 sm:py-2 mt-4 md:mt-2 mb-2 md:mb-0 text-center\">Copyright © 2022 CodeWithHarry.com</p>]"
            ]
          },
          "metadata": {},
          "execution_count": 17
        }
      ]
    },
    {
      "cell_type": "code",
      "source": [
        "anchors=soup.find_all('a')"
      ],
      "metadata": {
        "id": "_O1DYGJ7-kay"
      },
      "execution_count": null,
      "outputs": []
    },
    {
      "cell_type": "code",
      "source": [
        "anchors"
      ],
      "metadata": {
        "colab": {
          "base_uri": "https://localhost:8080/"
        },
        "id": "VdqSov4l-pbt",
        "outputId": "8fce66b1-7eeb-4906-b17c-81604ff43baf"
      },
      "execution_count": null,
      "outputs": [
        {
          "output_type": "execute_result",
          "data": {
            "text/plain": [
              "[<a href=\"/\">CodeWithHarry</a>,\n",
              " <a href=\"/\">Home</a>,\n",
              " <a href=\"/videos/\">Courses</a>,\n",
              " <a href=\"/tutorial/html-home/\">Tutorial</a>,\n",
              " <a href=\"/blog/\">Blog</a>,\n",
              " <a href=\"/notes/\">Notes</a>,\n",
              " <a href=\"/contact/\">Contact</a>,\n",
              " <a href=\"/my-gear/\">My Gear</a>,\n",
              " <a href=\"/work/\">Work With Us</a>,\n",
              " <a href=\"/tutorial/html-home/\">HTML</a>,\n",
              " <a href=\"/tutorial/css-home/\">CSS</a>,\n",
              " <a href=\"/tutorial/js/\">JS</a>,\n",
              " <a href=\"/tutorial/c/\">C</a>,\n",
              " <a href=\"/tutorial/cplusplus/\">C++</a>,\n",
              " <a href=\"/tutorial/java/\">JAVA</a>,\n",
              " <a href=\"/tutorial/python/\">PYTHON</a>,\n",
              " <a href=\"/tutorial/php/\">PHP</a>,\n",
              " <a href=\"/\">Home</a>,\n",
              " <a href=\"/videos/\">Courses</a>,\n",
              " <a href=\"/tutorial/html-home/\">HTML</a>,\n",
              " <a href=\"/tutorial/css-home/\">CSS</a>,\n",
              " <a href=\"/tutorial/js/\">JS</a>,\n",
              " <a href=\"/tutorial/c/\">C</a>,\n",
              " <a href=\"/tutorial/cplusplus/\">C++</a>,\n",
              " <a href=\"/tutorial/java/\">JAVA</a>,\n",
              " <a href=\"/tutorial/python/\">PYTHON</a>,\n",
              " <a href=\"/tutorial/php/\">PHP</a>,\n",
              " <a href=\"/blog/\">Blog</a>,\n",
              " <a href=\"/notes/\">Notes</a>,\n",
              " <a href=\"/contact/\">Contact</a>,\n",
              " <a href=\"/my-gear/\">My Gear</a>,\n",
              " <a href=\"/work/\">Work With Us</a>,\n",
              " <a aria-label=\"facebook\" class=\"text-gray-500\" href=\"https://www.facebook.com/codewithharry\" rel=\"noreferrer\" target=\"_blank\"><svg class=\"w-5 h-5\" fill=\"currentColor\" stroke-linecap=\"round\" stroke-linejoin=\"round\" stroke-width=\"2\" viewbox=\"0 0 24 24\"><path d=\"M18 2h-3a5 5 0 00-5 5v3H7v4h3v8h4v-8h3l1-4h-4V7a1 1 0 011-1h3z\"></path></svg></a>,\n",
              " <a aria-label=\"twitter\" class=\"ml-3 text-gray-500\" href=\"https://www.twitter.com/codewithharry\" rel=\"noreferrer\" target=\"_blank\"><svg class=\"w-5 h-5\" fill=\"currentColor\" stroke-linecap=\"round\" stroke-linejoin=\"round\" stroke-width=\"2\" viewbox=\"0 0 24 24\"><path d=\"M23 3a10.9 10.9 0 01-3.14 1.53 4.48 4.48 0 00-7.86 3v1A10.66 10.66 0 013 4s-4 9 5 13a11.64 11.64 0 01-7 2c9 5 20 0 20-11.5a4.5 4.5 0 00-.08-.83A7.72 7.72 0 0023 3z\"></path></svg></a>,\n",
              " <a aria-label=\"instagram\" class=\"ml-3 text-gray-500\" href=\"https://www.instagram.com/codewithharry\" rel=\"noreferrer\" target=\"_blank\"><svg class=\"w-5 h-5\" fill=\"none\" stroke=\"currentColor\" stroke-linecap=\"round\" stroke-linejoin=\"round\" stroke-width=\"2\" viewbox=\"0 0 24 24\"><rect height=\"20\" rx=\"5\" ry=\"5\" width=\"20\" x=\"2\" y=\"2\"></rect><path d=\"M16 11.37A4 4 0 1112.63 8 4 4 0 0116 11.37zm1.5-4.87h.01\"></path></svg></a>,\n",
              " <a aria-label=\"github\" class=\"ml-3 text-gray-500\" href=\"https://www.github.com/codewithharry\" rel=\"noreferrer\" target=\"_blank\"><svg class=\"text-xl\" fill=\"currentColor\" height=\"1em\" stroke=\"currentColor\" stroke-width=\"0\" viewbox=\"0 0 1024 1024\" width=\"1em\" xmlns=\"http://www.w3.org/2000/svg\"><path d=\"M511.6 76.3C264.3 76.2 64 276.4 64 523.5 64 718.9 189.3 885 363.8 946c23.5 5.9 19.9-10.8 19.9-22.2v-77.5c-135.7 15.9-141.2-73.9-150.3-88.9C215 726 171.5 718 184.5 703c30.9-15.9 62.4 4 98.9 57.9 26.4 39.1 77.9 32.5 104 26 5.7-23.5 17.9-44.5 34.7-60.8-140.6-25.2-199.2-111-199.2-213 0-49.5 16.3-95 48.3-131.7-20.4-60.5 1.9-112.3 4.9-120 58.1-5.2 118.5 41.6 123.2 45.3 33-8.9 70.7-13.6 112.9-13.6 42.4 0 80.2 4.9 113.5 13.9 11.3-8.6 67.3-48.8 121.3-43.9 2.9 7.7 24.7 58.3 5.5 118 32.4 36.8 48.9 82.7 48.9 132.3 0 102.2-59 188.1-200 212.9a127.5 127.5 0 0 1 38.1 91v112.5c.8 9 0 17.9 15 17.9 177.1-59.7 304.6-227 304.6-424.1 0-247.2-200.4-447.3-447.5-447.3z\"></path></svg></a>]"
            ]
          },
          "metadata": {},
          "execution_count": 19
        }
      ]
    },
    {
      "cell_type": "code",
      "source": [
        "soup.find('p')"
      ],
      "metadata": {
        "colab": {
          "base_uri": "https://localhost:8080/"
        },
        "id": "AVwgfO2q-sub",
        "outputId": "bd764129-cdd0-44d5-8e2d-5a6b6353e257"
      },
      "execution_count": null,
      "outputs": [
        {
          "output_type": "execute_result",
          "data": {
            "text/plain": [
              "<p class=\"mt-2 text-sm text-gray-500 md:text-base\">Confused on which course to take? I have got you covered. Browse courses and find out the best course for you. Its free! Code With Harry is my attempt to teach basics and those coding techniques to people in short time which took me ages to learn.</p>"
            ]
          },
          "metadata": {},
          "execution_count": 20
        }
      ]
    },
    {
      "cell_type": "code",
      "source": [
        "soup.find('p')['class']"
      ],
      "metadata": {
        "colab": {
          "base_uri": "https://localhost:8080/"
        },
        "id": "qHvrAZ-B-74g",
        "outputId": "937e1cce-2259-434c-b7d4-a5dbba4d570e"
      },
      "execution_count": null,
      "outputs": [
        {
          "output_type": "execute_result",
          "data": {
            "text/plain": [
              "['mt-2', 'text-sm', 'text-gray-500', 'md:text-base']"
            ]
          },
          "metadata": {},
          "execution_count": 21
        }
      ]
    },
    {
      "cell_type": "code",
      "source": [
        "soup.find_all('p',class_='text-base')"
      ],
      "metadata": {
        "colab": {
          "base_uri": "https://localhost:8080/"
        },
        "id": "Wjuc6j6v_A8f",
        "outputId": "0b09a74c-1eb8-4be5-9d5e-6449e307bb9c"
      },
      "execution_count": null,
      "outputs": [
        {
          "output_type": "execute_result",
          "data": {
            "text/plain": [
              "[<p class=\"text-gray-700 text-base\">Complete Tailwind CSS Course by CodeWithHarry in Hindi - Learn Tailwind CSS from scratch for free! </p>,\n",
              " <p class=\"text-gray-700 text-base\">Complete Next.js Course by CodeWithHarry in Hindi - Learn Next.js from Scratch.</p>,\n",
              " <p class=\"text-gray-700 text-base\">React is a free and open-source front-end JavaScript library. This series will cover React from starting to the end. We will learn react from the ground up!</p>]"
            ]
          },
          "metadata": {},
          "execution_count": 23
        }
      ]
    },
    {
      "cell_type": "code",
      "source": [
        "soup.find('p').get_text(soup.find('p'))"
      ],
      "metadata": {
        "colab": {
          "base_uri": "https://localhost:8080/",
          "height": 53
        },
        "id": "Y5QIAsft_kxz",
        "outputId": "fac34c18-d6fb-42f3-c9e8-40fff12bf8bb"
      },
      "execution_count": null,
      "outputs": [
        {
          "output_type": "execute_result",
          "data": {
            "text/plain": [
              "'Confused on which course to take? I have got you covered. Browse courses and find out the best course for you. Its free! Code With Harry is my attempt to teach basics and those coding techniques to people in short time which took me ages to learn.'"
            ],
            "application/vnd.google.colaboratory.intrinsic+json": {
              "type": "string"
            }
          },
          "metadata": {},
          "execution_count": 24
        }
      ]
    },
    {
      "cell_type": "code",
      "source": [
        "# to get all the text present on the website, just use get_text() on the soup directly\n",
        "soup.get_text()"
      ],
      "metadata": {
        "colab": {
          "base_uri": "https://localhost:8080/",
          "height": 142
        },
        "id": "gZgbBFWR_5lw",
        "outputId": "0edd5d8b-8446-4aab-9d59-5d9eaf89e8f7"
      },
      "execution_count": null,
      "outputs": [
        {
          "output_type": "execute_result",
          "data": {
            "text/plain": [
              "'Learn to code online - CodeWithHarryCodeWithHarryMenuLoginHomeCoursesTutorialBlogNotesContactMy GearWork With UsLoginSignupHTMLCSSJSCC++JAVAPYTHONPHPHomeCoursesTutorial HTMLCSSJSCC++JAVAPYTHONPHPBlogNotesContactMy GearWork With UsWelcome to CodeWithHarryConfused on which course to take? I have got you covered. Browse courses and find out the best course for you. Its free! Code With Harry is my attempt to teach basics and those coding techniques to people in short time which took me ages to learn.Free CoursesExplore BlogRecommended CoursesFree CourseTailwind Course In HindiComplete Tailwind CSS Course by CodeWithHarry in Hindi - Learn Tailwind CSS from scratch for free!  Start WatchingFree CourseNext.js Tutorials For BeginnersComplete Next.js Course by CodeWithHarry in Hindi - Learn Next.js from Scratch. Start WatchingFree CourseReact Js Tutorials For BeginnersReact is a free and open-source front-end JavaScript library. This series will cover React from starting to the end. We will learn react from the ground up! Start WatchingTestimonialsI don\\'t have words to thank this man, I\\'m really grateful to have this channel and website in my daily routine. If you\\'re a mere beginner, then you can trust this guy and can put your time into his content. I can assure you that it\\'ll be worth it.Mohit KumarWeb DeveloperFor everyone who wants to level up their #Coding and #Dev skills - seriously, this channel is for you! Both basic and advanced stacks are covered on this channel, and one can learn according to his skill levels. And the icing on the cake is, everything is available for free.Rakesh ShettyWeb DeveloperCodeWithHarryCopyright © 2022 CodeWithHarry.com{\"props\":{\"pageProps\":{},\"__N_SSP\":true},\"page\":\"/\",\"query\":{},\"buildId\":\"r1pduY1VR3kNJDgSbcRgt\",\"isFallback\":false,\"gssp\":true,\"scriptLoader\":[]}'"
            ],
            "application/vnd.google.colaboratory.intrinsic+json": {
              "type": "string"
            }
          },
          "metadata": {},
          "execution_count": 25
        }
      ]
    },
    {
      "cell_type": "code",
      "source": [
        "# to get all the links present on the page\n",
        "for link in anchors:\n",
        "  print(link.get('href'))"
      ],
      "metadata": {
        "colab": {
          "base_uri": "https://localhost:8080/"
        },
        "id": "_omFI0T_AIMv",
        "outputId": "ccc89de2-5f34-46e1-83ed-719469f3a734"
      },
      "execution_count": null,
      "outputs": [
        {
          "output_type": "stream",
          "name": "stdout",
          "text": [
            "/\n",
            "/\n",
            "/videos/\n",
            "/tutorial/html-home/\n",
            "/blog/\n",
            "/notes/\n",
            "/contact/\n",
            "/my-gear/\n",
            "/work/\n",
            "/tutorial/html-home/\n",
            "/tutorial/css-home/\n",
            "/tutorial/js/\n",
            "/tutorial/c/\n",
            "/tutorial/cplusplus/\n",
            "/tutorial/java/\n",
            "/tutorial/python/\n",
            "/tutorial/php/\n",
            "/\n",
            "/videos/\n",
            "/tutorial/html-home/\n",
            "/tutorial/css-home/\n",
            "/tutorial/js/\n",
            "/tutorial/c/\n",
            "/tutorial/cplusplus/\n",
            "/tutorial/java/\n",
            "/tutorial/python/\n",
            "/tutorial/php/\n",
            "/blog/\n",
            "/notes/\n",
            "/contact/\n",
            "/my-gear/\n",
            "/work/\n",
            "https://www.facebook.com/codewithharry\n",
            "https://www.twitter.com/codewithharry\n",
            "https://www.instagram.com/codewithharry\n",
            "https://www.github.com/codewithharry\n"
          ]
        }
      ]
    },
    {
      "cell_type": "code",
      "source": [],
      "metadata": {
        "id": "J7y7cssHAoyJ"
      },
      "execution_count": null,
      "outputs": []
    }
  ]
}